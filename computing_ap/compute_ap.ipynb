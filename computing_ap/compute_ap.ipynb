{
 "cells": [
  {
   "cell_type": "code",
   "execution_count": 1,
   "metadata": {
    "collapsed": true
   },
   "outputs": [],
   "source": [
    "import pandas as pd\n",
    "from average_precision import Box, evaluate_detector"
   ]
  },
  {
   "cell_type": "markdown",
   "metadata": {},
   "source": [
    "# Load bounding boxes"
   ]
  },
  {
   "cell_type": "code",
   "execution_count": 2,
   "metadata": {},
   "outputs": [
    {
     "name": "stdout",
     "output_type": "stream",
     "text": [
      "number of ground truth boxes: 12032\n"
     ]
    }
   ],
   "source": [
    "# ground truth bounding boxes\n",
    "G = pd.read_csv('../data_utils/voc07_test.csv')\n",
    "print('number of ground truth boxes:', len(G))"
   ]
  },
  {
   "cell_type": "code",
   "execution_count": 3,
   "metadata": {},
   "outputs": [
    {
     "name": "stdout",
     "output_type": "stream",
     "text": [
      "number of predicted boxes: 10166\n"
     ]
    }
   ],
   "source": [
    "# predicted bounding boxes\n",
    "D = pd.read_csv('../voc_test_results.csv')\n",
    "print('number of predicted boxes:', len(D))"
   ]
  },
  {
   "cell_type": "markdown",
   "metadata": {},
   "source": [
    "# Separate boxes"
   ]
  },
  {
   "cell_type": "code",
   "execution_count": 4,
   "metadata": {
    "collapsed": true
   },
   "outputs": [],
   "source": [
    "def to_dict(df, separate_by_image=False):\n",
    "    \n",
    "    # bounding boxes of different labels are separated\n",
    "    boxes_by_label = {}\n",
    "    unique_labels = df['label'].unique()\n",
    "    \n",
    "    for label in unique_labels:\n",
    "        \n",
    "        # bounding boxes on different images are separated or not\n",
    "        boxes = {} if separate_by_image else []\n",
    "        \n",
    "        # iterate over all boxes of a particular label\n",
    "        for _, row in df.loc[df['label'] == label].iterrows():\n",
    "            \n",
    "            if separate_by_image:\n",
    "                image_name = row['image']\n",
    "                if image_name in boxes:\n",
    "                    boxes[image_name] += [Box(row)]\n",
    "                else:\n",
    "                    boxes[image_name] = [Box(row)]\n",
    "            else:\n",
    "                boxes += [Box(row)]\n",
    "        \n",
    "        boxes_by_label[label] = boxes\n",
    "    \n",
    "    return boxes_by_label"
   ]
  },
  {
   "cell_type": "code",
   "execution_count": 5,
   "metadata": {},
   "outputs": [
    {
     "name": "stdout",
     "output_type": "stream",
     "text": [
      "CPU times: user 4.48 s, sys: 12 ms, total: 4.5 s\n",
      "Wall time: 4.49 s\n"
     ]
    }
   ],
   "source": [
    "%%time\n",
    "ground_truth_boxes_by_label = to_dict(G, separate_by_image=True)\n",
    "predicted_boxes_by_label = to_dict(D)"
   ]
  },
  {
   "cell_type": "markdown",
   "metadata": {},
   "source": [
    "# Compute average precision for each class"
   ]
  },
  {
   "cell_type": "code",
   "execution_count": 6,
   "metadata": {},
   "outputs": [
    {
     "name": "stdout",
     "output_type": "stream",
     "text": [
      "CPU times: user 120 ms, sys: 0 ns, total: 120 ms\n",
      "Wall time: 116 ms\n"
     ]
    }
   ],
   "source": [
    "%%time\n",
    "APs = []\n",
    "for label in ground_truth_boxes_by_label:\n",
    "    \n",
    "    ground_truth_boxes_by_img = ground_truth_boxes_by_label[label]\n",
    "    predicted_boxes = predicted_boxes_by_label[label]\n",
    "    \n",
    "    ap = evaluate_detector(ground_truth_boxes_by_img, predicted_boxes)\n",
    "    APs += [(label, ap)]"
   ]
  },
  {
   "cell_type": "code",
   "execution_count": 7,
   "metadata": {},
   "outputs": [
    {
     "data": {
      "text/plain": [
       "[('aeroplane', 0.7038177319537617),\n",
       " ('bicycle', 0.7756083347391495),\n",
       " ('bird', 0.6736327788248895),\n",
       " ('boat', 0.5990263861667374),\n",
       " ('bottle', 0.32174624806179697),\n",
       " ('bus', 0.7756380000622487),\n",
       " ('car', 0.7654825762497467),\n",
       " ('cat', 0.84668875918242),\n",
       " ('chair', 0.48815697623397114),\n",
       " ('cow', 0.6790430480480868),\n",
       " ('diningtable', 0.7084242043726565),\n",
       " ('dog', 0.8193585703817695),\n",
       " ('horse', 0.8125456390979221),\n",
       " ('motorbike', 0.756661308329083),\n",
       " ('person', 0.649269763155247),\n",
       " ('pottedplant', 0.3506859776208424),\n",
       " ('sheep', 0.658439708782686),\n",
       " ('sofa', 0.7130594724919583),\n",
       " ('train', 0.8046170128233268),\n",
       " ('tvmonitor', 0.6508534808445335)]"
      ]
     },
     "execution_count": 7,
     "metadata": {},
     "output_type": "execute_result"
    }
   ],
   "source": [
    "sorted(APs, key=lambda x: x[0])"
   ]
  },
  {
   "cell_type": "code",
   "execution_count": 8,
   "metadata": {},
   "outputs": [
    {
     "data": {
      "text/plain": [
       "0.6776377988711416"
      ]
     },
     "execution_count": 8,
     "metadata": {},
     "output_type": "execute_result"
    }
   ],
   "source": [
    "mAP = sum(ap for label, ap in APs)/len(APs)\n",
    "mAP"
   ]
  }
 ],
 "metadata": {
  "kernelspec": {
   "display_name": "Python 3",
   "language": "python",
   "name": "python3"
  },
  "language_info": {
   "codemirror_mode": {
    "name": "ipython",
    "version": 3
   },
   "file_extension": ".py",
   "mimetype": "text/x-python",
   "name": "python",
   "nbconvert_exporter": "python",
   "pygments_lexer": "ipython3",
   "version": "3.6.2"
  }
 },
 "nbformat": 4,
 "nbformat_minor": 2
}
