{
 "cells": [
  {
   "cell_type": "code",
   "execution_count": 1,
   "metadata": {
    "collapsed": true
   },
   "outputs": [],
   "source": [
    "import torch\n",
    "from ssd import SSD"
   ]
  },
  {
   "cell_type": "code",
   "execution_count": 2,
   "metadata": {},
   "outputs": [],
   "source": [
    "net = SSD()"
   ]
  },
  {
   "cell_type": "code",
   "execution_count": 3,
   "metadata": {},
   "outputs": [
    {
     "data": {
      "text/plain": [
       "71"
      ]
     },
     "execution_count": 3,
     "metadata": {},
     "output_type": "execute_result"
    }
   ],
   "source": [
    "W = torch.load('./ssd300_mAP_77.43_v2.pth', map_location=lambda storage, loc: storage)\n",
    "len(W)"
   ]
  },
  {
   "cell_type": "code",
   "execution_count": 4,
   "metadata": {
    "collapsed": true
   },
   "outputs": [],
   "source": [
    "weights = {}"
   ]
  },
  {
   "cell_type": "code",
   "execution_count": 5,
   "metadata": {
    "collapsed": true
   },
   "outputs": [],
   "source": [
    "weights['norm4.weight'] = W['L2Norm.weight']"
   ]
  },
  {
   "cell_type": "code",
   "execution_count": 6,
   "metadata": {
    "collapsed": true
   },
   "outputs": [],
   "source": [
    "for n in W:\n",
    "    if 'vgg' in n and int(n.split('.')[1]) <= 21:\n",
    "        weights['base' + n[3:]] = W[n]\n",
    "    elif 'loc' in n:\n",
    "        i = n.split('.')[1]\n",
    "        weights['multibox.loc_layers.' + i + n[5:]] = W[n]\n",
    "    elif 'conf' in n:\n",
    "        i = n.split('.')[1]\n",
    "        weights['multibox.conf_layers.' + i + n[6:]] = W[n]"
   ]
  },
  {
   "cell_type": "code",
   "execution_count": 7,
   "metadata": {
    "collapsed": true
   },
   "outputs": [],
   "source": [
    "weights['conv5_1.weight'] = W['vgg.24.weight']\n",
    "weights['conv5_1.bias'] = W['vgg.24.bias']\n",
    "weights['conv5_2.weight'] = W['vgg.26.weight']\n",
    "weights['conv5_2.bias'] = W['vgg.26.bias']\n",
    "weights['conv5_3.weight'] = W['vgg.28.weight']\n",
    "weights['conv5_3.bias'] = W['vgg.28.bias']\n",
    "weights['conv6.weight'] = W['vgg.31.weight']\n",
    "weights['conv6.bias'] = W['vgg.31.bias']\n",
    "weights['conv7.weight'] = W['vgg.33.weight']\n",
    "weights['conv7.bias'] = W['vgg.33.bias']"
   ]
  },
  {
   "cell_type": "code",
   "execution_count": 8,
   "metadata": {
    "collapsed": true
   },
   "outputs": [],
   "source": [
    "weights['conv8_1.weight'] = W['extras.0.weight']\n",
    "weights['conv8_1.bias'] = W['extras.0.bias']\n",
    "weights['conv8_2.weight'] = W['extras.1.weight']\n",
    "weights['conv8_2.bias'] = W['extras.1.bias']\n",
    "weights['conv9_1.weight'] = W['extras.2.weight']\n",
    "weights['conv9_1.bias'] = W['extras.2.bias']\n",
    "weights['conv9_2.weight'] = W['extras.3.weight']\n",
    "weights['conv9_2.bias'] = W['extras.3.bias']\n",
    "weights['conv10_1.weight'] = W['extras.4.weight']\n",
    "weights['conv10_1.bias'] = W['extras.4.bias']\n",
    "weights['conv10_2.weight'] = W['extras.5.weight']\n",
    "weights['conv10_2.bias'] = W['extras.5.bias']\n",
    "weights['conv11_1.weight'] = W['extras.6.weight']\n",
    "weights['conv11_1.bias'] = W['extras.6.bias']\n",
    "weights['conv11_2.weight'] = W['extras.7.weight']\n",
    "weights['conv11_2.bias'] = W['extras.7.bias']"
   ]
  },
  {
   "cell_type": "code",
   "execution_count": 9,
   "metadata": {
    "collapsed": true
   },
   "outputs": [],
   "source": [
    "for n, p in net.named_parameters():\n",
    "    p.data = weights[n]"
   ]
  },
  {
   "cell_type": "code",
   "execution_count": 10,
   "metadata": {
    "collapsed": true,
    "scrolled": true
   },
   "outputs": [],
   "source": [
    "torch.save(net.state_dict(), 'pretrained.pth')"
   ]
  }
 ],
 "metadata": {
  "kernelspec": {
   "display_name": "Python 3",
   "language": "python",
   "name": "python3"
  },
  "language_info": {
   "codemirror_mode": {
    "name": "ipython",
    "version": 3
   },
   "file_extension": ".py",
   "mimetype": "text/x-python",
   "name": "python",
   "nbconvert_exporter": "python",
   "pygments_lexer": "ipython3",
   "version": "3.6.2"
  }
 },
 "nbformat": 4,
 "nbformat_minor": 2
}
