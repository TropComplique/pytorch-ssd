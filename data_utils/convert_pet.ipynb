{
 "cells": [
  {
   "cell_type": "code",
   "execution_count": 1,
   "metadata": {
    "collapsed": true
   },
   "outputs": [],
   "source": [
    "import pandas as pd\n",
    "import os\n",
    "import xml.etree.ElementTree as ET"
   ]
  },
  {
   "cell_type": "code",
   "execution_count": 2,
   "metadata": {},
   "outputs": [],
   "source": [
    "data = pd.read_csv('/home/ubuntu/data/annotations/list.txt', header=None, sep=' ', skiprows=6)\n",
    "data.columns = ['Image', 'CLASS_ID', 'SPECIES', 'BREED_ID']"
   ]
  },
  {
   "cell_type": "code",
   "execution_count": 3,
   "metadata": {},
   "outputs": [],
   "source": [
    "xml_dir = '/home/ubuntu/data/annotations/xmls/'\n",
    "images_with_boxes = os.listdir(xml_dir)\n",
    "images_with_boxes = [n[:-4] for n in images_with_boxes] "
   ]
  },
  {
   "cell_type": "code",
   "execution_count": 4,
   "metadata": {},
   "outputs": [],
   "source": [
    "data = data.loc[data.Image.isin(images_with_boxes)]"
   ]
  },
  {
   "cell_type": "code",
   "execution_count": 5,
   "metadata": {},
   "outputs": [],
   "source": [
    "validation = data.groupby('CLASS_ID', group_keys=False).apply(lambda x: x.sample(n=40, replace=False))\n",
    "validation.sort_index(inplace=True)"
   ]
  },
  {
   "cell_type": "code",
   "execution_count": 6,
   "metadata": {
    "collapsed": true
   },
   "outputs": [],
   "source": [
    "train = data.drop(validation.index, axis=0)"
   ]
  },
  {
   "cell_type": "code",
   "execution_count": 7,
   "metadata": {},
   "outputs": [
    {
     "data": {
      "text/plain": [
       "2191"
      ]
     },
     "execution_count": 7,
     "metadata": {},
     "output_type": "execute_result"
    }
   ],
   "source": [
    "len(train)"
   ]
  },
  {
   "cell_type": "code",
   "execution_count": 8,
   "metadata": {},
   "outputs": [
    {
     "data": {
      "text/plain": [
       "1480"
      ]
     },
     "execution_count": 8,
     "metadata": {},
     "output_type": "execute_result"
    }
   ],
   "source": [
    "len(validation)"
   ]
  },
  {
   "cell_type": "code",
   "execution_count": 9,
   "metadata": {
    "collapsed": true
   },
   "outputs": [],
   "source": [
    "def write(df, filename):\n",
    "    file = open(filename, 'w')\n",
    "    for T in df.itertuples():\n",
    "        img_name = T.Image + '.jpg'\n",
    "        xml_name = T.Image + '.xml'\n",
    "        file.write(img_name + ' ')\n",
    "        tree = ET.parse(os.path.join(xml_dir, xml_name))\n",
    "        annotations = []\n",
    "        for child in tree.getroot():\n",
    "            if child.tag == 'object':\n",
    "                bbox = child.find('bndbox')\n",
    "                xmin = bbox.find('xmin').text\n",
    "                ymin = bbox.find('ymin').text\n",
    "                xmax = bbox.find('xmax').text\n",
    "                ymax = bbox.find('ymax').text\n",
    "                class_label = T.CLASS_ID\n",
    "                annotations.append(\n",
    "                    '%s %s %s %s %s' % (xmin, ymin, xmax, ymax, class_label)\n",
    "                )\n",
    "        file.write('%d %s\\n' % (len(annotations), ' '.join(annotations)))\n",
    "    file.close()"
   ]
  },
  {
   "cell_type": "code",
   "execution_count": 10,
   "metadata": {
    "collapsed": true
   },
   "outputs": [],
   "source": [
    "write(train, 'PET_train_by_image.txt')\n",
    "write(validation, 'PET_validation_by_image.txt')"
   ]
  }
 ],
 "metadata": {
  "kernelspec": {
   "display_name": "Python 3",
   "language": "python",
   "name": "python3"
  },
  "language_info": {
   "codemirror_mode": {
    "name": "ipython",
    "version": 3
   },
   "file_extension": ".py",
   "mimetype": "text/x-python",
   "name": "python",
   "nbconvert_exporter": "python",
   "pygments_lexer": "ipython3",
   "version": "3.6.1"
  }
 },
 "nbformat": 4,
 "nbformat_minor": 2
}
